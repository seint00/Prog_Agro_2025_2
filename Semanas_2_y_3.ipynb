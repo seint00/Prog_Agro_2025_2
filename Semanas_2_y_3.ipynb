{
  "nbformat": 4,
  "nbformat_minor": 0,
  "metadata": {
    "colab": {
      "provenance": [],
      "authorship_tag": "ABX9TyN6ToJ/ka3WYpvZ2ubmY+am",
      "include_colab_link": true
    },
    "kernelspec": {
      "name": "python3",
      "display_name": "Python 3"
    },
    "language_info": {
      "name": "python"
    }
  },
  "cells": [
    {
      "cell_type": "markdown",
      "metadata": {
        "id": "view-in-github",
        "colab_type": "text"
      },
      "source": [
        "<a href=\"https://colab.research.google.com/github/seint00/Prog_Agro_2025_2/blob/main/Semanas_2_y_3.ipynb\" target=\"_parent\"><img src=\"https://colab.research.google.com/assets/colab-badge.svg\" alt=\"Open In Colab\"/></a>"
      ]
    },
    {
      "cell_type": "markdown",
      "source": [
        "# Situación 1: Clasificador de pH del Suelo\n",
        "El pH del suelo es un factor crítico para la absorción de\n",
        "nutrientes por parte de las plantas. Desarrollarás un programa que recibe un valor de pH e informa al agricultor si el suelo es ácido, neutro o alcalino, ofreciendo una recomendación general."
      ],
      "metadata": {
        "id": "fwqINQBjrnBE"
      }
    },
    {
      "cell_type": "code",
      "execution_count": 3,
      "metadata": {
        "colab": {
          "base_uri": "https://localhost:8080/"
        },
        "id": "8e1aXxyGra03",
        "outputId": "03deb6a9-70e5-472a-b671-6ad44c86a554"
      },
      "outputs": [
        {
          "output_type": "stream",
          "name": "stdout",
          "text": [
            "Este programa clasifica el pH del suelo.\n",
            "Por favor, ingrese el valor de pH medido: 8\n",
            "El suelo es alcalino.\n",
            "Recomendamos el uso de sulfato.\n"
          ]
        }
      ],
      "source": [
        "# Explicar al usuario que el programa clasifica el pH del suelo\n",
        "print(\"Este programa clasifica el pH del suelo.\")\n",
        "\n",
        "# Pedir al usuario que ingrese el valor de pH medido (puede ser decimal)\n",
        "ph = float(input(\"Por favor, ingrese el valor de pH medido: \"))\n",
        "\n",
        "# Utilizar una estructura 'if' para la primera condición: si el pH es menor que 6.5\n",
        "if ph < 7:\n",
        "    print(\"El suelo es ácido.\")\n",
        "    # Dentro del 'if', mostrar un mensaje indicando que el suelo es \"Ácido\" y recomendar el uso de cal agrícola.\n",
        "    print(\"Recomendamos el uso de cal agrícola.\")\n",
        "elif ph == 7:\n",
        "    print(\"El suelo es neutro.\")\n",
        "elif ph > 7:\n",
        "    print(\"El suelo es alcalino.\")\n",
        "    print(\"Recomendamos el uso de sulfato.\")"
      ]
    },
    {
      "cell_type": "markdown",
      "metadata": {
        "id": "67da8cc8"
      },
      "source": [
        "Aquí te explico el código línea por línea:\n",
        "\n",
        "1.  `print(\"Este programa clasifica el pH del suelo.\")`: Esta línea imprime un mensaje en la consola para informar al usuario de qué trata el programa.\n",
        "2.  `ph = float(input(\"Por favor, ingrese el valor de pH medido: \"))`: Esta línea le pide al usuario que ingrese un valor de pH. La función `input()` lee la entrada del usuario como texto, y `float()` convierte ese texto a un número decimal (flotante). Este valor se guarda en la variable `ph`.\n",
        "3.  `if ph < 7:`: Esta línea comienza una estructura condicional. Si el valor de `ph` es menor que 7, el código dentro de este bloque `if` se ejecutará.\n",
        "4.  `print(\"El suelo es ácido.\")`: Si la condición anterior es verdadera (pH menor que 7), esta línea imprime que el suelo es ácido.\n",
        "5.  `print(\"Recomendamos el uso de cal agrícola.\")`: Si el suelo es ácido, esta línea imprime una recomendación para usar cal agrícola.\n",
        "6.  `elif ph == 7:`: Esta línea es otra condición. Si la primera condición (`if ph < 7`) no es verdadera, el programa verifica si el valor de `ph` es exactamente igual a 7. Si es así, el código dentro de este bloque `elif` se ejecutará.\n",
        "7.  `print(\"El suelo es neutro.\")`: Si la condición `elif ph == 7` es verdadera, esta línea imprime que el suelo es neutro.\n",
        "8.  `elif ph > 7:`: Esta línea es la última condición en esta estructura `if-elif-elif`. Si ninguna de las condiciones anteriores es verdadera (es decir, si el pH no es menor que 7 y no es igual a 7), entonces el pH debe ser mayor que 7. Si es así, el código dentro de este bloque `elif` se ejecutará.\n",
        "9.  `print(\"El suelo es alcalino.\")`: Si la condición `elif ph > 7` es verdadera, esta línea imprime que el suelo es alcalino.\n",
        "10. `print(\"Recomendamos el uso de sulfato.\")`: Si el suelo es alcalino, esta línea imprime una recomendación para usar sulfato."
      ]
    },
    {
      "cell_type": "markdown",
      "source": [
        "# Situación 2: Simulación de Crecimiento de un Cultivo\n",
        "Un agrónomo quiere simular el crecimiento\n",
        "en altura de una planta durante 5 semanas. La planta crece a una tasa diferente cada semana. El programa debe solicitar la tasa de crecimiento de cada semana y mostrar la altura total al final."
      ],
      "metadata": {
        "id": "PpzyDN-7yPXf"
      }
    },
    {
      "cell_type": "code",
      "source": [
        "# Inicializar una variable para la altura total de la planta en cero.\n",
        "altura = 0\n",
        "# Inicializar una lista para almacenar los crecimientos semanales.\n",
        "crecimientos_semanales = []\n",
        "\n",
        "# Mostrar un mensaje que indique que se simulará el crecimiento durante 5 semanas.\n",
        "print(\"simulacion de crecimiento durante cinco semanas\")\n",
        "\n",
        "# Crear un bucle 'for' que se repita 5 veces (una por cada semana).\n",
        "for semana in range(1, 6):\n",
        "    \"\"\"\n",
        "    Dentro del bucle, pedir al usuario el crecimiento de la planta para la semana\n",
        "    actual (ej. \"Ingrese el crecimiento en cm para la semana 1:\").\n",
        "    \"\"\"\n",
        "    crecimiento = float(input(f\"Ingrese el crecimiento en cm para la semana {semana}: \"))\n",
        "    # Agregar el crecimiento semanal a la lista\n",
        "    crecimientos_semanales.append(crecimiento)\n",
        "    \"\"\"\n",
        "    Actualizar la altura total de la planta sumándole el crecimiento de la semana actual.\n",
        "    \"\"\"\n",
        "    altura += crecimiento\n",
        "\n",
        "# Después de que el bucle termine, mostrar la altura total acumulada de la planta.\n",
        "print(\"la altura de la planta es:\", altura, \"cm\")\n",
        "print(f\"la altura de la planta es: {altura} cm\")\n",
        "\n",
        "# Mostrar la lista de crecimientos semanales\n",
        "print(\"Crecimientos semanales:\", crecimientos_semanales)"
      ],
      "metadata": {
        "colab": {
          "base_uri": "https://localhost:8080/"
        },
        "id": "ySL8-p4ayP8o",
        "outputId": "b7961946-d631-4065-99cd-6ffb6396b986"
      },
      "execution_count": 7,
      "outputs": [
        {
          "output_type": "stream",
          "name": "stdout",
          "text": [
            "simulacion de crecimiento durante cinco semanas\n",
            "Ingrese el crecimiento en cm para la semana 1: 11\n",
            "Ingrese el crecimiento en cm para la semana 2: 12\n",
            "Ingrese el crecimiento en cm para la semana 3: 21\n",
            "Ingrese el crecimiento en cm para la semana 4: 23\n",
            "Ingrese el crecimiento en cm para la semana 5: 33\n",
            "la altura de la planta es: 100.0 cm\n",
            "la altura de la planta es: 100.0 cm\n",
            "Crecimientos semanales: [11.0, 12.0, 21.0, 23.0, 33.0]\n"
          ]
        }
      ]
    },
    {
      "cell_type": "markdown",
      "source": [
        "# Situación 1: Control de Calidad de un Lote de Leche\n",
        "Una planta procesadora debe verificar si un\n",
        "lote de leche cumple con el estándar de acidez (medido en °Dornic). Si la acidez está entre 15 y 18 °D, el lote es aceptado. Si es mayor, se destina a queso; si es menor, se rechaza.\n",
        "\n",
        "1. # Describir el propósito: Programa de control de calidad de leche por acidez.\n",
        "2. # Pedir al operario que ingrese el valor de acidez en grados Dornic.\n",
        "3. # Guardar el valor en una variable.\n",
        "4. # Escribir una condición 'if' que verifique si la acidez es mayor a 18.\n",
        "5. # Si se cumple, imprimir \"Lote destinado para producción de queso\".\n",
        "6. # Usar 'elif' para verificar si la acidez es menor a 15.\n",
        "7. # Si se cumple, imprimir \"Lote RECHAZADO por baja acidez\".\n",
        "8. # Usar 'else' para capturar el caso en que la acidez está en el rango aceptable.\n",
        "9. # Si no se cumplen las condiciones anteriores, imprimir \"Lote ACEPTADO para pasteurización\"."
      ],
      "metadata": {
        "id": "rfeTj4jl6A4n"
      }
    },
    {
      "cell_type": "code",
      "source": [
        "# Describir el propósito: Programa de control de calidad de leche por acidez.\n",
        "print(\"Programa de control de calidad de leche por acidez.\")\n",
        "\n",
        "# Pedir al operario que ingrese el valor de acidez en grados Dornic.\n",
        "# Guardar el valor en una variable.\n",
        "acidez = float(input(\"Por favor, ingrese el valor de acidez en grados Dornic: \"))\n",
        "\n",
        "# Escribir una condición 'if' que verifique si la acidez es mayor a 18.\n",
        "if acidez > 18:\n",
        "    # Si se cumple, imprimir \"Lote destinado para producción de queso\".\n",
        "    print(\"Lote destinado para producción de queso\")\n",
        "# Usar 'elif' para verificar si la acidez es menor a 15.\n",
        "elif acidez < 15:\n",
        "    # Si se cumple, imprimir \"Lote RECHAZADO por baja acidez\".\n",
        "    print(\"Lote RECHAZADO por baja acidez\")\n",
        "# Usar 'else' para capturar el caso en que la acidez está en el rango aceptable.\n",
        "else:\n",
        "    # Si no se cumplen las condiciones anteriores, imprimir \"Lote ACEPTADO para pasteurización\".\n",
        "    print(\"Lote ACEPTADO para pasteurización\")"
      ],
      "metadata": {
        "colab": {
          "base_uri": "https://localhost:8080/"
        },
        "id": "B5RggmUI6uMr",
        "outputId": "11f7ee52-2af5-4b56-c6ac-d3e6d286be59"
      },
      "execution_count": 10,
      "outputs": [
        {
          "output_type": "stream",
          "name": "stdout",
          "text": [
            "Programa de control de calidad de leche por acidez.\n",
            "Por favor, ingrese el valor de acidez en grados Dornic: 14\n",
            "Lote RECHAZADO por baja acidez\n"
          ]
        }
      ]
    }
  ]
}