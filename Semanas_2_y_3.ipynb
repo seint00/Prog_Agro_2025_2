{
  "nbformat": 4,
  "nbformat_minor": 0,
  "metadata": {
    "colab": {
      "provenance": [],
      "authorship_tag": "ABX9TyMUSn7TjBSuUUZclIhbkfDs",
      "include_colab_link": true
    },
    "kernelspec": {
      "name": "python3",
      "display_name": "Python 3"
    },
    "language_info": {
      "name": "python"
    }
  },
  "cells": [
    {
      "cell_type": "markdown",
      "metadata": {
        "id": "view-in-github",
        "colab_type": "text"
      },
      "source": [
        "<a href=\"https://colab.research.google.com/github/seint00/Prog_Agro_2025_2/blob/main/Semanas_2_y_3.ipynb\" target=\"_parent\"><img src=\"https://colab.research.google.com/assets/colab-badge.svg\" alt=\"Open In Colab\"/></a>"
      ]
    },
    {
      "cell_type": "markdown",
      "source": [
        "# Situación 1: Clasificador de pH del Suelo\n",
        "El pH del suelo es un factor crítico para la absorción de\n",
        "nutrientes por parte de las plantas. Desarrollarás un programa que recibe un valor de pH e informa al agricultor si el suelo es ácido, neutro o alcalino, ofreciendo una recomendación general."
      ],
      "metadata": {
        "id": "fwqINQBjrnBE"
      }
    },
    {
      "cell_type": "code",
      "execution_count": 3,
      "metadata": {
        "colab": {
          "base_uri": "https://localhost:8080/"
        },
        "id": "8e1aXxyGra03",
        "outputId": "03deb6a9-70e5-472a-b671-6ad44c86a554"
      },
      "outputs": [
        {
          "output_type": "stream",
          "name": "stdout",
          "text": [
            "Este programa clasifica el pH del suelo.\n",
            "Por favor, ingrese el valor de pH medido: 8\n",
            "El suelo es alcalino.\n",
            "Recomendamos el uso de sulfato.\n"
          ]
        }
      ],
      "source": [
        "# Explicar al usuario que el programa clasifica el pH del suelo\n",
        "print(\"Este programa clasifica el pH del suelo.\")\n",
        "\n",
        "# Pedir al usuario que ingrese el valor de pH medido (puede ser decimal)\n",
        "ph = float(input(\"Por favor, ingrese el valor de pH medido: \"))\n",
        "\n",
        "# Utilizar una estructura 'if' para la primera condición: si el pH es menor que 6.5\n",
        "if ph < 7:\n",
        "    print(\"El suelo es ácido.\")\n",
        "    # Dentro del 'if', mostrar un mensaje indicando que el suelo es \"Ácido\" y recomendar el uso de cal agrícola.\n",
        "    print(\"Recomendamos el uso de cal agrícola.\")\n",
        "elif ph == 7:\n",
        "    print(\"El suelo es neutro.\")\n",
        "elif ph > 7:\n",
        "    print(\"El suelo es alcalino.\")\n",
        "    print(\"Recomendamos el uso de sulfato.\")"
      ]
    },
    {
      "cell_type": "markdown",
      "metadata": {
        "id": "67da8cc8"
      },
      "source": [
        "Aquí te explico el código línea por línea:\n",
        "\n",
        "1.  `print(\"Este programa clasifica el pH del suelo.\")`: Esta línea imprime un mensaje en la consola para informar al usuario de qué trata el programa.\n",
        "2.  `ph = float(input(\"Por favor, ingrese el valor de pH medido: \"))`: Esta línea le pide al usuario que ingrese un valor de pH. La función `input()` lee la entrada del usuario como texto, y `float()` convierte ese texto a un número decimal (flotante). Este valor se guarda en la variable `ph`.\n",
        "3.  `if ph < 7:`: Esta línea comienza una estructura condicional. Si el valor de `ph` es menor que 7, el código dentro de este bloque `if` se ejecutará.\n",
        "4.  `print(\"El suelo es ácido.\")`: Si la condición anterior es verdadera (pH menor que 7), esta línea imprime que el suelo es ácido.\n",
        "5.  `print(\"Recomendamos el uso de cal agrícola.\")`: Si el suelo es ácido, esta línea imprime una recomendación para usar cal agrícola.\n",
        "6.  `elif ph == 7:`: Esta línea es otra condición. Si la primera condición (`if ph < 7`) no es verdadera, el programa verifica si el valor de `ph` es exactamente igual a 7. Si es así, el código dentro de este bloque `elif` se ejecutará.\n",
        "7.  `print(\"El suelo es neutro.\")`: Si la condición `elif ph == 7` es verdadera, esta línea imprime que el suelo es neutro.\n",
        "8.  `elif ph > 7:`: Esta línea es la última condición en esta estructura `if-elif-elif`. Si ninguna de las condiciones anteriores es verdadera (es decir, si el pH no es menor que 7 y no es igual a 7), entonces el pH debe ser mayor que 7. Si es así, el código dentro de este bloque `elif` se ejecutará.\n",
        "9.  `print(\"El suelo es alcalino.\")`: Si la condición `elif ph > 7` es verdadera, esta línea imprime que el suelo es alcalino.\n",
        "10. `print(\"Recomendamos el uso de sulfato.\")`: Si el suelo es alcalino, esta línea imprime una recomendación para usar sulfato."
      ]
    }
  ]
}