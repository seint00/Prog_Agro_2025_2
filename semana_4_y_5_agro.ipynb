{
  "nbformat": 4,
  "nbformat_minor": 0,
  "metadata": {
    "colab": {
      "provenance": [],
      "authorship_tag": "ABX9TyP/T2R2fmrwuxJm3+9VQ8oD",
      "include_colab_link": true
    },
    "kernelspec": {
      "name": "python3",
      "display_name": "Python 3"
    },
    "language_info": {
      "name": "python"
    }
  },
  "cells": [
    {
      "cell_type": "markdown",
      "metadata": {
        "id": "view-in-github",
        "colab_type": "text"
      },
      "source": [
        "<a href=\"https://colab.research.google.com/github/seint00/Prog_Agro_2025_2/blob/main/semana_4_y_5_agro.ipynb\" target=\"_parent\"><img src=\"https://colab.research.google.com/assets/colab-badge.svg\" alt=\"Open In Colab\"/></a>"
      ]
    },
    {
      "cell_type": "markdown",
      "metadata": {
        "id": "5cfb2531"
      },
      "source": [
        "En Python, las listas, tuplas y diccionarios son tipos de datos que se utilizan para almacenar colecciones de elementos. Cada uno tiene sus propias características y usos:\n",
        "\n",
        "**Listas**\n",
        "\n",
        "*   **Definición:** Son colecciones ordenadas y mutables de elementos. Pueden contener elementos de diferentes tipos de datos. Se definen utilizando corchetes `[]`.\n",
        "*   **Características:**\n",
        "    *   **Ordenadas:** Los elementos tienen un orden definido y se puede acceder a ellos por su índice.\n",
        "    *   **Mutables:** Se pueden modificar (agregar, eliminar, cambiar elementos) después de su creación.\n",
        "    *   **Permiten duplicados:** Pueden contener elementos repetidos.\n",
        "*   **Ejemplo:** `mi_lista = [1, \"hola\", 3.14, True]`\n",
        "\n",
        "**Tuplas**\n",
        "\n",
        "*   **Definición:** Son colecciones ordenadas e inmutables de elementos. Al igual que las listas, pueden contener elementos de diferentes tipos de datos. Se definen utilizando paréntesis `()`.\n",
        "*   **Características:**\n",
        "    *   **Ordenadas:** Los elementos tienen un orden definido y se puede acceder a ellos por su índice.\n",
        "    *   **Inmutables:** No se pueden modificar después de su creación. Una vez que se crea una tupla, su contenido no puede cambiar.\n",
        "    *   **Permiten duplicados:** Pueden contener elementos repetidos.\n",
        "*   **Ejemplo:** `mi_tupla = (1, \"hola\", 3.14, True)`\n",
        "\n",
        "**Diccionarios**\n",
        "\n",
        "*   **Definición:** Son colecciones desordenadas de pares clave-valor. Cada elemento se almacena como un par de clave única y su valor asociado. Se definen utilizando llaves `{}`.\n",
        "*   **Características:**\n",
        "    *   **Desordenados (en versiones anteriores a Python 3.7):** El orden de los elementos no está garantizado. (En Python 3.7 y posteriores, los diccionarios mantienen el orden de inserción).\n",
        "    *   **Mutables:** Se pueden modificar (agregar, eliminar, cambiar pares clave-valor) después de su creación.\n",
        "    *   **Las claves deben ser únicas:** Cada clave dentro de un diccionario debe ser única. Los valores pueden ser duplicados.\n",
        "*   **Ejemplo:** `mi_diccionario = {\"nombre\": \"Juan\", \"edad\": 30, \"ciudad\": \"Madrid\"}`\n",
        "\n",
        "**Similitudes:**\n",
        "\n",
        "*   Los tres tipos de datos se utilizan para almacenar colecciones de elementos.\n",
        "*   Pueden contener elementos de diferentes tipos de datos (aunque en los diccionarios, las claves suelen ser de tipos inmutables como strings, números o tuplas).\n",
        "*   Permiten acceder a los elementos (por índice en listas y tuplas, por clave en diccionarios).\n",
        "\n",
        "**Diferencias:**\n",
        "\n",
        "| Característica | Lista                     | Tupla                     | Diccionario                 |\n",
        "|----------------|---------------------------|---------------------------|-----------------------------|\n",
        "| Mutabilidad    | Mutable (se puede cambiar)| Inmutable (no se puede cambiar)| Mutable (se puede cambiar) |\n",
        "| Orden          | Ordenada                  | Ordenada                  | Desordenada (orden de inserción en Python 3.7+) |\n",
        "| Acceso         | Por índice                | Por índice                | Por clave                   |\n",
        "| Definición     | `[]`                      | `()`                      | `{}`                        |\n",
        "| Propósito      | Colección general, flexible | Datos fijos, estructura | Pares clave-valor, búsqueda rápida |\n",
        "\n",
        "En resumen, la principal diferencia radica en la mutabilidad y la forma en que se accede a los elementos. Las listas son flexibles y se pueden modificar, las tuplas son inmutables y se utilizan para datos que no cambian, y los diccionarios son útiles para almacenar y acceder a datos mediante claves."
      ]
    },
    {
      "cell_type": "markdown",
      "metadata": {
        "id": "7ea43c7d"
      },
      "source": [
        "## Funciones en Python\n",
        "\n",
        "En Python, una función es un bloque de código organizado y reutilizable que realiza una tarea específica. Las funciones ayudan a modularizar el código, hacerlo más legible y evitar la repetición.\n",
        "\n",
        "**Definición y Uso:**\n",
        "\n",
        "Se definen utilizando la palabra clave `def`, seguida del nombre de la función, paréntesis `()` (que pueden contener parámetros) y dos puntos `:`. El bloque de código de la función está indentado."
      ]
    },
    {
      "cell_type": "code",
      "metadata": {
        "id": "2bb00654"
      },
      "source": [
        "def sumar(a, b):\n",
        "  \"\"\"Esta función retorna la suma de dos números.\"\"\"\n",
        "  return a + b\n",
        "\n",
        "resultado = sumar(5, 3)\n",
        "print(resultado) # Salida: 8"
      ],
      "execution_count": null,
      "outputs": []
    },
    {
      "cell_type": "markdown",
      "source": [
        "# Situación de Interés en Ingeniería Agrícola:\n",
        "Un agrónomo consultor necesita una herramienta\n",
        "rápida para aconsejar a los agricultores sobre qué cultivos sembrar. Se requiere un programa que almacene información de varios cultivos (nombre, mes ideal de siembra, necesidad de agua) y que, al\n",
        "ingresar el nombre de un mes, recomiende qué cultivos son adecuados para sembrar en ese período.\n",
        "Caso de Ingeniería Agrícola: Planificador de Cultivos (Listas y Funciones)\n",
        "• Paso a Paso del Código:\n",
        "1. Crear una lista donde cada elemento sea un diccionario. Cada diccionario representará un\n",
        "cultivo y tendrá claves como nombre, mes_siembra y riego.\n",
        "2. Crear una función llamada recomendar_cultivos. Esta función recibirá dos parámetros: la\n",
        "lista completa de cultivos y el mes actual.\n",
        "3. Dentro de la función, usar un bucle for para recorrer la lista de cultivos.\n",
        "4. En cada iteración, usar un if para comprobar si el mes_siembra del cultivo coincide con el mes\n",
        "proporcionado.\n",
        "5. Si coinciden, añadir el nombre del cultivo a una nueva lista de recomendados.\n",
        "6. Al final, la función debe devolver la lista de cultivos recomendados.\n",
        "7. En el programa principal, pedir al usuario el mes y llamar a la función para obtener e imprimir\n",
        "las recomendaciones."
      ],
      "metadata": {
        "id": "uuHZMrMB1saK"
      }
    },
    {
      "cell_type": "code",
      "source": [],
      "metadata": {
        "id": "9zKE5h9I2FmK"
      },
      "execution_count": null,
      "outputs": []
    },
    {
      "cell_type": "code",
      "metadata": {
        "colab": {
          "base_uri": "https://localhost:8080/"
        },
        "id": "94db7a9c",
        "outputId": "4067e7de-9983-4540-8961-f5880a976daf"
      },
      "source": [
        "# 1. Crear una lista donde cada elemento sea un diccionario.\n",
        "cultivos = [\n",
        "    {\"nombre\": \"Maíz\", \"mes_siembra\": \"Abril\", \"riego\": \"Moderado\"},\n",
        "    {\"nombre\": \"Trigo\", \"mes_siembra\": \"Octubre\", \"riego\": \"Bajo\"},\n",
        "    {\"nombre\": \"Girasol\", \"mes_siembra\": \"Mayo\", \"riego\": \"Moderado\"},\n",
        "    {\"nombre\": \"Soja\", \"mes_siembra\": \"Noviembre\", \"riego\": \"Alto\"},\n",
        "    {\"nombre\": \"Arroz\", \"mes_siembra\": \"Mayo\", \"riego\": \"Muy Alto\"},\n",
        "]\n",
        "\n",
        "# 2. Crear una función llamada recomendar_cultivos.\n",
        "def recomendar_cultivos(lista_cultivos, mes_actual):\n",
        "  \"\"\"\n",
        "  Esta función recomienda cultivos basados en el mes de siembra.\n",
        "\n",
        "  Args:\n",
        "    lista_cultivos: Una lista de diccionarios, donde cada diccionario representa un cultivo.\n",
        "    mes_actual: El mes para el que se desean las recomendaciones.\n",
        "\n",
        "  Returns:\n",
        "    Una lista de nombres de cultivos recomendados para el mes dado.\n",
        "  \"\"\"\n",
        "  recomendados = []\n",
        "  # 3. Usar un bucle for para recorrer la lista de cultivos.\n",
        "  for cultivo in lista_cultivos:\n",
        "    # 4. Usar un if para comprobar si el mes_siembra del cultivo coincide con el mes proporcionado.\n",
        "    if cultivo[\"mes_siembra\"].lower() == mes_actual.lower():\n",
        "      # 5. Si coinciden, añadir el nombre del cultivo a una nueva lista de recomendados.\n",
        "      recomendados.append(cultivo[\"nombre\"])\n",
        "  # 6. Al final, la función debe devolver la lista de cultivos recomendados.\n",
        "  return recomendados\n",
        "\n",
        "# 7. En el programa principal, pedir al usuario el mes y llamar a la función.\n",
        "mes_ingresado = input(\"Ingrese el mes actual para obtener recomendaciones de cultivo: \")\n",
        "\n",
        "recomendaciones = recomendar_cultivos(cultivos, mes_ingresado)\n",
        "\n",
        "# Imprimir las recomendaciones\n",
        "if recomendaciones:\n",
        "  print(f\"Cultivos recomendados para sembrar en {mes_ingresado}:\")\n",
        "  for cultivo_recomendado in recomendaciones:\n",
        "    print(f\"- {cultivo_recomendado}\")\n",
        "else:\n",
        "  print(f\"No hay cultivos recomendados para sembrar en {mes_ingresado}.\")"
      ],
      "execution_count": 2,
      "outputs": [
        {
          "output_type": "stream",
          "name": "stdout",
          "text": [
            "Ingrese el mes actual para obtener recomendaciones de cultivo: noviembre\n",
            "Cultivos recomendados para sembrar en noviembre:\n",
            "- Soja\n"
          ]
        }
      ]
    }
  ]
}