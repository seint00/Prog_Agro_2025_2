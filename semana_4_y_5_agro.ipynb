{
  "nbformat": 4,
  "nbformat_minor": 0,
  "metadata": {
    "colab": {
      "provenance": [],
      "authorship_tag": "ABX9TyP/bePMrR7bpASywV5SYXa2",
      "include_colab_link": true
    },
    "kernelspec": {
      "name": "python3",
      "display_name": "Python 3"
    },
    "language_info": {
      "name": "python"
    }
  },
  "cells": [
    {
      "cell_type": "markdown",
      "metadata": {
        "id": "view-in-github",
        "colab_type": "text"
      },
      "source": [
        "<a href=\"https://colab.research.google.com/github/seint00/Prog_Agro_2025_2/blob/main/semana_4_y_5_agro.ipynb\" target=\"_parent\"><img src=\"https://colab.research.google.com/assets/colab-badge.svg\" alt=\"Open In Colab\"/></a>"
      ]
    },
    {
      "cell_type": "markdown",
      "metadata": {
        "id": "5cfb2531"
      },
      "source": [
        "En Python, las listas, tuplas y diccionarios son tipos de datos que se utilizan para almacenar colecciones de elementos. Cada uno tiene sus propias características y usos:\n",
        "\n",
        "**Listas**\n",
        "\n",
        "*   **Definición:** Son colecciones ordenadas y mutables de elementos. Pueden contener elementos de diferentes tipos de datos. Se definen utilizando corchetes `[]`.\n",
        "*   **Características:**\n",
        "    *   **Ordenadas:** Los elementos tienen un orden definido y se puede acceder a ellos por su índice.\n",
        "    *   **Mutables:** Se pueden modificar (agregar, eliminar, cambiar elementos) después de su creación.\n",
        "    *   **Permiten duplicados:** Pueden contener elementos repetidos.\n",
        "*   **Ejemplo:** `mi_lista = [1, \"hola\", 3.14, True]`\n",
        "\n",
        "**Tuplas**\n",
        "\n",
        "*   **Definición:** Son colecciones ordenadas e inmutables de elementos. Al igual que las listas, pueden contener elementos de diferentes tipos de datos. Se definen utilizando paréntesis `()`.\n",
        "*   **Características:**\n",
        "    *   **Ordenadas:** Los elementos tienen un orden definido y se puede acceder a ellos por su índice.\n",
        "    *   **Inmutables:** No se pueden modificar después de su creación. Una vez que se crea una tupla, su contenido no puede cambiar.\n",
        "    *   **Permiten duplicados:** Pueden contener elementos repetidos.\n",
        "*   **Ejemplo:** `mi_tupla = (1, \"hola\", 3.14, True)`\n",
        "\n",
        "**Diccionarios**\n",
        "\n",
        "*   **Definición:** Son colecciones desordenadas de pares clave-valor. Cada elemento se almacena como un par de clave única y su valor asociado. Se definen utilizando llaves `{}`.\n",
        "*   **Características:**\n",
        "    *   **Desordenados (en versiones anteriores a Python 3.7):** El orden de los elementos no está garantizado. (En Python 3.7 y posteriores, los diccionarios mantienen el orden de inserción).\n",
        "    *   **Mutables:** Se pueden modificar (agregar, eliminar, cambiar pares clave-valor) después de su creación.\n",
        "    *   **Las claves deben ser únicas:** Cada clave dentro de un diccionario debe ser única. Los valores pueden ser duplicados.\n",
        "*   **Ejemplo:** `mi_diccionario = {\"nombre\": \"Juan\", \"edad\": 30, \"ciudad\": \"Madrid\"}`\n",
        "\n",
        "**Similitudes:**\n",
        "\n",
        "*   Los tres tipos de datos se utilizan para almacenar colecciones de elementos.\n",
        "*   Pueden contener elementos de diferentes tipos de datos (aunque en los diccionarios, las claves suelen ser de tipos inmutables como strings, números o tuplas).\n",
        "*   Permiten acceder a los elementos (por índice en listas y tuplas, por clave en diccionarios).\n",
        "\n",
        "**Diferencias:**\n",
        "\n",
        "| Característica | Lista                     | Tupla                     | Diccionario                 |\n",
        "|----------------|---------------------------|---------------------------|-----------------------------|\n",
        "| Mutabilidad    | Mutable (se puede cambiar)| Inmutable (no se puede cambiar)| Mutable (se puede cambiar) |\n",
        "| Orden          | Ordenada                  | Ordenada                  | Desordenada (orden de inserción en Python 3.7+) |\n",
        "| Acceso         | Por índice                | Por índice                | Por clave                   |\n",
        "| Definición     | `[]`                      | `()`                      | `{}`                        |\n",
        "| Propósito      | Colección general, flexible | Datos fijos, estructura | Pares clave-valor, búsqueda rápida |\n",
        "\n",
        "En resumen, la principal diferencia radica en la mutabilidad y la forma en que se accede a los elementos. Las listas son flexibles y se pueden modificar, las tuplas son inmutables y se utilizan para datos que no cambian, y los diccionarios son útiles para almacenar y acceder a datos mediante claves."
      ]
    },
    {
      "cell_type": "markdown",
      "metadata": {
        "id": "7ea43c7d"
      },
      "source": [
        "## Funciones en Python\n",
        "\n",
        "En Python, una función es un bloque de código organizado y reutilizable que realiza una tarea específica. Las funciones ayudan a modularizar el código, hacerlo más legible y evitar la repetición.\n",
        "\n",
        "**Definición y Uso:**\n",
        "\n",
        "Se definen utilizando la palabra clave `def`, seguida del nombre de la función, paréntesis `()` (que pueden contener parámetros) y dos puntos `:`. El bloque de código de la función está indentado."
      ]
    },
    {
      "cell_type": "code",
      "metadata": {
        "id": "2bb00654"
      },
      "source": [
        "def sumar(a, b):\n",
        "  \"\"\"Esta función retorna la suma de dos números.\"\"\"\n",
        "  return a + b\n",
        "\n",
        "resultado = sumar(5, 3)\n",
        "print(resultado) # Salida: 8"
      ],
      "execution_count": null,
      "outputs": []
    },
    {
      "cell_type": "markdown",
      "source": [
        "# Situación de Interés en Ingeniería Agrícola:\n",
        "Un agrónomo consultor necesita una herramienta\n",
        "rápida para aconsejar a los agricultores sobre qué cultivos sembrar. Se requiere un programa que almacene información de varios cultivos (nombre, mes ideal de siembra, necesidad de agua) y que, al\n",
        "ingresar el nombre de un mes, recomiende qué cultivos son adecuados para sembrar en ese período.\n",
        "Caso de Ingeniería Agrícola: Planificador de Cultivos (Listas y Funciones)\n",
        "• Paso a Paso del Código:\n",
        "1. Crear una lista donde cada elemento sea un diccionario. Cada diccionario representará un\n",
        "cultivo y tendrá claves como nombre, mes_siembra y riego.\n",
        "2. Crear una función llamada recomendar_cultivos. Esta función recibirá dos parámetros: la\n",
        "lista completa de cultivos y el mes actual.\n",
        "3. Dentro de la función, usar un bucle for para recorrer la lista de cultivos.\n",
        "4. En cada iteración, usar un if para comprobar si el mes_siembra del cultivo coincide con el mes\n",
        "proporcionado.\n",
        "5. Si coinciden, añadir el nombre del cultivo a una nueva lista de recomendados.\n",
        "6. Al final, la función debe devolver la lista de cultivos recomendados.\n",
        "7. En el programa principal, pedir al usuario el mes y llamar a la función para obtener e imprimir\n",
        "las recomendaciones."
      ],
      "metadata": {
        "id": "uuHZMrMB1saK"
      }
    },
    {
      "cell_type": "code",
      "source": [],
      "metadata": {
        "id": "9zKE5h9I2FmK"
      },
      "execution_count": null,
      "outputs": []
    },
    {
      "cell_type": "code",
      "metadata": {
        "colab": {
          "base_uri": "https://localhost:8080/"
        },
        "id": "94db7a9c",
        "outputId": "4067e7de-9983-4540-8961-f5880a976daf"
      },
      "source": [
        "# 1. Crear una lista donde cada elemento sea un diccionario.\n",
        "cultivos = [\n",
        "    {\"nombre\": \"Maíz\", \"mes_siembra\": \"Abril\", \"riego\": \"Moderado\"},\n",
        "    {\"nombre\": \"Trigo\", \"mes_siembra\": \"Octubre\", \"riego\": \"Bajo\"},\n",
        "    {\"nombre\": \"Girasol\", \"mes_siembra\": \"Mayo\", \"riego\": \"Moderado\"},\n",
        "    {\"nombre\": \"Soja\", \"mes_siembra\": \"Noviembre\", \"riego\": \"Alto\"},\n",
        "    {\"nombre\": \"Arroz\", \"mes_siembra\": \"Mayo\", \"riego\": \"Muy Alto\"},\n",
        "]\n",
        "\n",
        "# 2. Crear una función llamada recomendar_cultivos.\n",
        "def recomendar_cultivos(lista_cultivos, mes_actual):\n",
        "  \"\"\"\n",
        "  Esta función recomienda cultivos basados en el mes de siembra.\n",
        "\n",
        "  Args:\n",
        "    lista_cultivos: Una lista de diccionarios, donde cada diccionario representa un cultivo.\n",
        "    mes_actual: El mes para el que se desean las recomendaciones.\n",
        "\n",
        "  Returns:\n",
        "    Una lista de nombres de cultivos recomendados para el mes dado.\n",
        "  \"\"\"\n",
        "  recomendados = []\n",
        "  # 3. Usar un bucle for para recorrer la lista de cultivos.\n",
        "  for cultivo in lista_cultivos:\n",
        "    # 4. Usar un if para comprobar si el mes_siembra del cultivo coincide con el mes proporcionado.\n",
        "    if cultivo[\"mes_siembra\"].lower() == mes_actual.lower():\n",
        "      # 5. Si coinciden, añadir el nombre del cultivo a una nueva lista de recomendados.\n",
        "      recomendados.append(cultivo[\"nombre\"])\n",
        "  # 6. Al final, la función debe devolver la lista de cultivos recomendados.\n",
        "  return recomendados\n",
        "\n",
        "# 7. En el programa principal, pedir al usuario el mes y llamar a la función.\n",
        "mes_ingresado = input(\"Ingrese el mes actual para obtener recomendaciones de cultivo: \")\n",
        "\n",
        "recomendaciones = recomendar_cultivos(cultivos, mes_ingresado)\n",
        "\n",
        "# Imprimir las recomendaciones\n",
        "if recomendaciones:\n",
        "  print(f\"Cultivos recomendados para sembrar en {mes_ingresado}:\")\n",
        "  for cultivo_recomendado in recomendaciones:\n",
        "    print(f\"- {cultivo_recomendado}\")\n",
        "else:\n",
        "  print(f\"No hay cultivos recomendados para sembrar en {mes_ingresado}.\")"
      ],
      "execution_count": 2,
      "outputs": [
        {
          "output_type": "stream",
          "name": "stdout",
          "text": [
            "Ingrese el mes actual para obtener recomendaciones de cultivo: noviembre\n",
            "Cultivos recomendados para sembrar en noviembre:\n",
            "- Soja\n"
          ]
        }
      ]
    },
    {
      "cell_type": "markdown",
      "metadata": {
        "id": "f0890a2f"
      },
      "source": [
        "```python\n",
        "# 1. Crear una lista donde cada elemento sea un diccionario.\n",
        "cultivos = [\n",
        "    {\"nombre\": \"Maíz\", \"mes_siembra\": \"Abril\", \"riego\": \"Moderado\"},\n",
        "    {\"nombre\": \"Trigo\", \"mes_siembra\": \"Octubre\", \"riego\": \"Bajo\"},\n",
        "    {\"nombre\": \"Girasol\", \"mes_siembra\": \"Mayo\", \"riego\": \"Moderado\"},\n",
        "    {\"nombre\": \"Soja\", \"mes_siembra\": \"Noviembre\", \"riego\": \"Alto\"},\n",
        "    {\"nombre\": \"Arroz\", \"mes_siembra\": \"Mayo\", \"riego\": \"Muy Alto\"},\n",
        "]\n",
        "\n",
        "# 2. Crear una función llamada recomendar_cultivos.\n",
        "def recomendar_cultivos(lista_cultivos, mes_actual):\n",
        "  \"\"\"\n",
        "  Esta función recomienda cultivos basados en el mes de siembra.\n",
        "\n",
        "  Args:\n",
        "    lista_cultivos: Una lista de diccionarios, donde cada diccionario representa un cultivo.\n",
        "    mes_actual: El mes para el que se desean las recomendaciones.\n",
        "\n",
        "  Returns:\n",
        "    Una lista de nombres de cultivos recomendados para el mes dado.\n",
        "  \"\"\"\n",
        "  recomendados = []\n",
        "  # 3. Usar un bucle for para recorrer la lista de cultivos.\n",
        "  for cultivo in lista_cultivos:\n",
        "    # 4. Usar un if para comprobar si el mes_siembra del cultivo coincide con el mes proporcionado.\n",
        "    if cultivo[\"mes_siembra\"].lower() == mes_actual.lower():\n",
        "      # 5. Si coinciden, añadir el nombre del cultivo a una nueva lista de recomendados.\n",
        "      recomendados.append(cultivo[\"nombre\"])\n",
        "  # 6. Al final, la función debe devolver la lista de cultivos recomendados.\n",
        "  return recomendados\n",
        "\n",
        "# 7. En el programa principal, pedir al usuario el mes y llamar a la función.\n",
        "mes_ingresado = input(\"Ingrese el mes actual para obtener recomendaciones de cultivo: \")\n",
        "\n",
        "recomendaciones = recomendar_cultivos(cultivos, mes_ingresado)\n",
        "\n",
        "# Imprimir las recomendaciones\n",
        "if recomendaciones:\n",
        "  print(f\"Cultivos recomendados para sembrar en {mes_ingresado}:\")\n",
        "  for cultivo_recomendado in recomendaciones:\n",
        "    print(f\"- {cultivo_recomendado}\")\n",
        "else:\n",
        "  print(f\"No hay cultivos recomendados para sembrar en {mes_ingresado}.\")"
      ]
    },
    {
      "cell_type": "markdown",
      "metadata": {
        "id": "7a67be1f"
      },
      "source": [
        "Aquí tienes la explicación de cada fragmento del código del Planificador de Cultivos:"
      ]
    },
    {
      "cell_type": "code",
      "metadata": {
        "id": "128ed61e"
      },
      "source": [
        "# 2. Crear una función llamada recomendar_cultivos.\n",
        "def recomendar_cultivos(lista_cultivos, mes_actual):\n",
        "  \"\"\"\n",
        "  Esta función recomienda cultivos basados en el mes de siembra.\n",
        "\n",
        "  Args:\n",
        "    lista_cultivos: Una lista de diccionarios, donde cada diccionario representa un cultivo.\n",
        "    mes_actual: El mes para el que se desean las recomendaciones.\n",
        "\n",
        "  Returns:\n",
        "    Una lista de nombres de cultivos recomendados para el mes dado.\n",
        "  \"\"\"\n",
        "  recomendados = []\n",
        "  # 3. Usar un bucle for para recorrer la lista de cultivos.\n",
        "  for cultivo in lista_cultivos:\n",
        "    # 4. Usar un if para comprobar si el mes_siembra del cultivo coincide con el mes proporcionado.\n",
        "    if cultivo[\"mes_siembra\"].lower() == mes_actual.lower():\n",
        "      # 5. Si coinciden, añadir el nombre del cultivo a una nueva lista de recomendados.\n",
        "      recomendados.append(cultivo[\"nombre\"])\n",
        "  # 6. Al final, la función debe devolver la lista de cultivos recomendados.\n",
        "  return recomendados"
      ],
      "execution_count": null,
      "outputs": []
    },
    {
      "cell_type": "code",
      "metadata": {
        "id": "48cc439d"
      },
      "source": [
        "# 7. En el programa principal, pedir al usuario el mes y llamar a la función.\n",
        "mes_ingresado = input(\"Ingrese el mes actual para obtener recomendaciones de cultivo: \")\n",
        "\n",
        "recomendaciones = recomendar_cultivos(cultivos, mes_ingresado)\n",
        "\n",
        "# Imprimir las recomendaciones\n",
        "if recomendaciones:\n",
        "  print(f\"Cultivos recomendados para sembrar en {mes_ingresado}:\")\n",
        "  for cultivo_recomendado in recomendaciones:\n",
        "    print(f\"- {cultivo_recomendado}\")\n",
        "else:\n",
        "  print(f\"No hay cultivos recomendados para sembrar en {mes_ingresado}.\")"
      ],
      "execution_count": null,
      "outputs": []
    },
    {
      "cell_type": "markdown",
      "source": [
        "#Situación 2: Función para Validar Parámetros de Calidad\n",
        "\n",
        "Una planta recibe lotes de fruta y debe\n",
        "validar si cumplen con los parámetros de pH y grados Brix para ser aceptados. Crearás una función que\n",
        "centralice esta lógica de validación.\n",
        "• Paso a Paso del Código (Guía para el Notebook)\n",
        "1. # Definir una función 'validar_lote' que tome dos parámetros: 'ph' y 'brix'.\n",
        "2. # Dentro de la función, usar una estructura 'if' para verificar si el pH está\n",
        "entre 3.5 y 4.5 Y si los grados Brix son mayores a 12.\n",
        "3. # Si ambas condiciones se cumplen, la función debe devolver el valor booleano\n",
        "True.\n",
        "4. # De lo contrario (else), la función debe devolver el valor booleano False.\n",
        "5. # En el programa principal, pedir al usuario el pH y los grados Brix del lote\n",
        "actual.\n",
        "6. # Llamar a la función 'validar_lote' con los datos ingresados y guardar el\n",
        "resultado (True/False) en una variable.\n",
        "7. # Usar un 'if' en el programa principal para comprobar el valor de esa variable.\n",
        "8. # Si la variable es True, imprimir \"Lote APROBADO\". Si es False, imprimir \"Lote\n",
        "RECHAZADO\"."
      ],
      "metadata": {
        "id": "6snOOfl76_IP"
      }
    },
    {
      "cell_type": "code",
      "source": [],
      "metadata": {
        "id": "80lbVKBU7K-2"
      },
      "execution_count": null,
      "outputs": []
    },
    {
      "cell_type": "code",
      "metadata": {
        "colab": {
          "base_uri": "https://localhost:8080/"
        },
        "id": "b6419215",
        "outputId": "1a9d2dda-6739-4dee-9a9c-f328e4b95e5e"
      },
      "source": [
        "# 1. Definir una función 'validar_lote' que tome dos parámetros: 'ph' y 'brix'.\n",
        "def validar_lote(ph, brix):\n",
        "  \"\"\"\n",
        "  Esta función valida si un lote de fruta cumple con los parámetros de calidad.\n",
        "\n",
        "  Args:\n",
        "    ph: El valor de pH del lote.\n",
        "    brix: Los grados Brix del lote.\n",
        "\n",
        "  Returns:\n",
        "    True si el lote es aprobado, False si es rechazado.\n",
        "  \"\"\"\n",
        "  # 2. Dentro de la función, usar una estructura 'if' para verificar si el pH está\n",
        "  # entre 3.5 y 4.5 Y si los grados Brix son mayores a 12.\n",
        "  if 3.5 <= ph <= 4.5 and brix > 12:\n",
        "    # 3. Si ambas condiciones se cumplen, la función debe devolver el valor booleano True.\n",
        "    return True\n",
        "  else:\n",
        "    # 4. De lo contrario (else), la función debe devolver el valor booleano False.\n",
        "    return False\n",
        "\n",
        "# 5. En el programa principal, pedir al usuario el pH y los grados Brix del lote actual.\n",
        "try:\n",
        "    ph_ingresado = float(input(\"Ingrese el valor de pH del lote: \"))\n",
        "    brix_ingresado = float(input(\"Ingrese los grados Brix del lote: \"))\n",
        "\n",
        "    # 6. Llamar a la función 'validar_lote' con los datos ingresados y guardar el resultado.\n",
        "    lote_aprobado = validar_lote(ph_ingresado, brix_ingresado)\n",
        "\n",
        "    # 7. Usar un 'if' en el programa principal para comprobar el valor de esa variable.\n",
        "    # 8. Si la variable es True, imprimir \"Lote APROBADO\". Si es False, imprimir \"Lote RECHAZADO\".\n",
        "    if lote_aprobado:\n",
        "      print(\"Lote APROBADO\")\n",
        "    else:\n",
        "      print(\"Lote RECHAZADO\")\n",
        "\n",
        "except ValueError:\n",
        "    print(\"Entrada inválida. Por favor, ingrese valores numéricos para pH y Brix.\")"
      ],
      "execution_count": 5,
      "outputs": [
        {
          "output_type": "stream",
          "name": "stdout",
          "text": [
            "Ingrese el valor de pH del lote: 4\n",
            "Ingrese los grados Brix del lote: 13\n",
            "Lote APROBADO\n"
          ]
        }
      ]
    },
    {
      "cell_type": "markdown",
      "metadata": {
        "id": "813f6946"
      },
      "source": [
        "Aquí tienes la explicación de cada fragmento del código de la Situación 2: Función para Validar Parámetros de Calidad:"
      ]
    },
    {
      "cell_type": "markdown",
      "metadata": {
        "id": "0873a63a"
      },
      "source": [
        "En Python, los bloques `try` y `except` se utilizan para manejar errores (excepciones) que pueden ocurrir durante la ejecución de un programa. Esto permite que el programa continúe ejecutándose en lugar de detenerse abruptamente cuando ocurre un error.\n",
        "\n",
        "*   **`try`**: El código dentro del bloque `try` es el que se intenta ejecutar. Si no ocurre ningún error durante la ejecución de este código, el bloque `except` se omite.\n",
        "*   **`except`**: Si ocurre un error (una excepción) dentro del bloque `try`, Python busca un bloque `except` que pueda manejar ese tipo específico de error. Si encuentra uno, el código dentro de ese bloque `except` se ejecuta. Puedes especificar diferentes tipos de excepciones para manejar errores específicos, o usar un `except` general para capturar cualquier excepción.\n",
        "\n",
        "**Ejemplo:**"
      ]
    },
    {
      "cell_type": "markdown",
      "source": [
        "# Situación 1: Ficha Técnica de un Producto\n",
        "\n",
        "Se necesita un programa para almacenar y mostrar la información clave de un producto alimenticio, como su nombre, lote, fecha de vencimiento y porcentaje de humedad. Un diccionario es perfecto para esto, ya que cada dato tiene una etiqueta clara.\n",
        "• Paso a Paso del Código (Guía para el Notebook)\n",
        "1. # Crear un diccionario vacío llamado 'ficha_producto'.\n",
        "2. # Pedir al usuario el nombre del producto y guardarlo en el diccionario con la\n",
        "clave 'nombre'.\n",
        "3. # Pedir el número de lote y guardarlo con la clave 'lote'.\n",
        "4. # Pedir la fecha de vencimiento y guardarla con la clave 'vencimiento'.\n",
        "5. # Pedir el porcentaje de humedad y guardarlo con la clave 'humedad'.\n",
        "6. # Mostrar un encabezado que diga \"--- Ficha Técnica del Producto ---\".\n",
        "7. # Imprimir cada uno de los valores del diccionario accediendo a ellos a través\n",
        "de sus claves (ej. ficha_producto['nombre'])."
      ],
      "metadata": {
        "id": "VTHf94bw9d4t"
      }
    },
    {
      "cell_type": "code",
      "source": [],
      "metadata": {
        "id": "_laYm1S395MM"
      },
      "execution_count": null,
      "outputs": []
    },
    {
      "cell_type": "code",
      "metadata": {
        "colab": {
          "base_uri": "https://localhost:8080/"
        },
        "id": "2b38295e",
        "outputId": "fc098dd5-72dc-417f-b5c8-905183688775"
      },
      "source": [
        "# 1. Crear una lista para almacenar múltiples fichas de producto.\n",
        "fichas_productos = []\n",
        "\n",
        "while True:\n",
        "    # 2. Crear un diccionario vacío para la ficha del producto actual.\n",
        "    ficha_producto = {}\n",
        "\n",
        "    print(\"\\n--- Ingresar Datos del Producto ---\")\n",
        "\n",
        "    # Pedir al usuario los datos del producto y guardarlos en el diccionario.\n",
        "    ficha_producto['nombre'] = input(\"Ingrese el nombre del producto (o escriba 'fin' para terminar): \")\n",
        "\n",
        "    if ficha_producto['nombre'].lower() == 'fin':\n",
        "        break # Salir del bucle si el usuario escribe 'fin'\n",
        "\n",
        "    ficha_producto['lote'] = input(\"Ingrese el número de lote: \")\n",
        "    ficha_producto['vencimiento'] = input(\"Ingrese la fecha de vencimiento: \")\n",
        "    ficha_producto['humedad'] = input(\"Ingrese el porcentaje de humedad: \")\n",
        "\n",
        "    # Agregar la ficha del producto a la lista de fichas.\n",
        "    fichas_productos.append(ficha_producto)\n",
        "\n",
        "# Mostrar las fichas técnicas de los productos ingresados.\n",
        "print(\"\\n--- Fichas Técnicas de los Productos ---\")\n",
        "if fichas_productos:\n",
        "    for i, ficha in enumerate(fichas_productos):\n",
        "        print(f\"\\n--- Producto {i+1} ---\")\n",
        "        print(f\"Nombre: {ficha['nombre']}\")\n",
        "        print(f\"Lote: {ficha['lote']}\")\n",
        "        print(f\"Fecha de Vencimiento: {ficha['vencimiento']}\")\n",
        "        print(f\"Humedad: {ficha['humedad']}%\")\n",
        "else:\n",
        "    print(\"No se ingresaron datos de productos.\")"
      ],
      "execution_count": 7,
      "outputs": [
        {
          "output_type": "stream",
          "name": "stdout",
          "text": [
            "\n",
            "--- Ingresar Datos del Producto ---\n",
            "Ingrese el nombre del producto (o escriba 'fin' para terminar): mango\n",
            "Ingrese el número de lote: 123\n",
            "Ingrese la fecha de vencimiento: 12/12/2027\n",
            "Ingrese el porcentaje de humedad: 78\n",
            "\n",
            "--- Ingresar Datos del Producto ---\n",
            "Ingrese el nombre del producto (o escriba 'fin' para terminar): yuca\n",
            "Ingrese el número de lote: 234\n",
            "Ingrese la fecha de vencimiento: 12/12/2028\n",
            "Ingrese el porcentaje de humedad: 80\n",
            "\n",
            "--- Ingresar Datos del Producto ---\n",
            "Ingrese el nombre del producto (o escriba 'fin' para terminar): fin\n",
            "\n",
            "--- Fichas Técnicas de los Productos ---\n",
            "\n",
            "--- Producto 1 ---\n",
            "Nombre: mango\n",
            "Lote: 123\n",
            "Fecha de Vencimiento: 12/12/2027\n",
            "Humedad: 78%\n",
            "\n",
            "--- Producto 2 ---\n",
            "Nombre: yuca\n",
            "Lote: 234\n",
            "Fecha de Vencimiento: 12/12/2028\n",
            "Humedad: 80%\n"
          ]
        }
      ]
    },
    {
      "cell_type": "code",
      "metadata": {
        "colab": {
          "base_uri": "https://localhost:8080/"
        },
        "id": "71d63ef9",
        "outputId": "e040b324-f3ca-4bbe-b87b-32473c9247bb"
      },
      "source": [
        "import pandas as pd\n",
        "\n",
        "# Crear un DataFrame de pandas a partir de la lista de diccionarios\n",
        "df_productos = pd.DataFrame(fichas_productos)\n",
        "\n",
        "# Guardar el DataFrame en un archivo de Excel\n",
        "excel_filename = \"fichas_productos.xlsx\"\n",
        "df_productos.to_excel(excel_filename, index=False)\n",
        "\n",
        "print(f\"Datos guardados exitosamente en '{excel_filename}'\")"
      ],
      "execution_count": 8,
      "outputs": [
        {
          "output_type": "stream",
          "name": "stdout",
          "text": [
            "Datos guardados exitosamente en 'fichas_productos.xlsx'\n"
          ]
        }
      ]
    }
  ]
}