{
  "nbformat": 4,
  "nbformat_minor": 0,
  "metadata": {
    "colab": {
      "provenance": [],
      "authorship_tag": "ABX9TyPmanN69lfyXc6MQKdrXt0m",
      "include_colab_link": true
    },
    "kernelspec": {
      "name": "python3",
      "display_name": "Python 3"
    },
    "language_info": {
      "name": "python"
    }
  },
  "cells": [
    {
      "cell_type": "markdown",
      "metadata": {
        "id": "view-in-github",
        "colab_type": "text"
      },
      "source": [
        "<a href=\"https://colab.research.google.com/github/seint00/Prog_Agro_2025_2/blob/main/semana_4_y_5_agro.ipynb\" target=\"_parent\"><img src=\"https://colab.research.google.com/assets/colab-badge.svg\" alt=\"Open In Colab\"/></a>"
      ]
    },
    {
      "cell_type": "markdown",
      "metadata": {
        "id": "5cfb2531"
      },
      "source": [
        "En Python, las listas, tuplas y diccionarios son tipos de datos que se utilizan para almacenar colecciones de elementos. Cada uno tiene sus propias características y usos:\n",
        "\n",
        "**Listas**\n",
        "\n",
        "*   **Definición:** Son colecciones ordenadas y mutables de elementos. Pueden contener elementos de diferentes tipos de datos. Se definen utilizando corchetes `[]`.\n",
        "*   **Características:**\n",
        "    *   **Ordenadas:** Los elementos tienen un orden definido y se puede acceder a ellos por su índice.\n",
        "    *   **Mutables:** Se pueden modificar (agregar, eliminar, cambiar elementos) después de su creación.\n",
        "    *   **Permiten duplicados:** Pueden contener elementos repetidos.\n",
        "*   **Ejemplo:** `mi_lista = [1, \"hola\", 3.14, True]`\n",
        "\n",
        "**Tuplas**\n",
        "\n",
        "*   **Definición:** Son colecciones ordenadas e inmutables de elementos. Al igual que las listas, pueden contener elementos de diferentes tipos de datos. Se definen utilizando paréntesis `()`.\n",
        "*   **Características:**\n",
        "    *   **Ordenadas:** Los elementos tienen un orden definido y se puede acceder a ellos por su índice.\n",
        "    *   **Inmutables:** No se pueden modificar después de su creación. Una vez que se crea una tupla, su contenido no puede cambiar.\n",
        "    *   **Permiten duplicados:** Pueden contener elementos repetidos.\n",
        "*   **Ejemplo:** `mi_tupla = (1, \"hola\", 3.14, True)`\n",
        "\n",
        "**Diccionarios**\n",
        "\n",
        "*   **Definición:** Son colecciones desordenadas de pares clave-valor. Cada elemento se almacena como un par de clave única y su valor asociado. Se definen utilizando llaves `{}`.\n",
        "*   **Características:**\n",
        "    *   **Desordenados (en versiones anteriores a Python 3.7):** El orden de los elementos no está garantizado. (En Python 3.7 y posteriores, los diccionarios mantienen el orden de inserción).\n",
        "    *   **Mutables:** Se pueden modificar (agregar, eliminar, cambiar pares clave-valor) después de su creación.\n",
        "    *   **Las claves deben ser únicas:** Cada clave dentro de un diccionario debe ser única. Los valores pueden ser duplicados.\n",
        "*   **Ejemplo:** `mi_diccionario = {\"nombre\": \"Juan\", \"edad\": 30, \"ciudad\": \"Madrid\"}`\n",
        "\n",
        "**Similitudes:**\n",
        "\n",
        "*   Los tres tipos de datos se utilizan para almacenar colecciones de elementos.\n",
        "*   Pueden contener elementos de diferentes tipos de datos (aunque en los diccionarios, las claves suelen ser de tipos inmutables como strings, números o tuplas).\n",
        "*   Permiten acceder a los elementos (por índice en listas y tuplas, por clave en diccionarios).\n",
        "\n",
        "**Diferencias:**\n",
        "\n",
        "| Característica | Lista                     | Tupla                     | Diccionario                 |\n",
        "|----------------|---------------------------|---------------------------|-----------------------------|\n",
        "| Mutabilidad    | Mutable (se puede cambiar)| Inmutable (no se puede cambiar)| Mutable (se puede cambiar) |\n",
        "| Orden          | Ordenada                  | Ordenada                  | Desordenada (orden de inserción en Python 3.7+) |\n",
        "| Acceso         | Por índice                | Por índice                | Por clave                   |\n",
        "| Definición     | `[]`                      | `()`                      | `{}`                        |\n",
        "| Propósito      | Colección general, flexible | Datos fijos, estructura | Pares clave-valor, búsqueda rápida |\n",
        "\n",
        "En resumen, la principal diferencia radica en la mutabilidad y la forma en que se accede a los elementos. Las listas son flexibles y se pueden modificar, las tuplas son inmutables y se utilizan para datos que no cambian, y los diccionarios son útiles para almacenar y acceder a datos mediante claves."
      ]
    },
    {
      "cell_type": "markdown",
      "metadata": {
        "id": "7ea43c7d"
      },
      "source": [
        "## Funciones en Python\n",
        "\n",
        "En Python, una función es un bloque de código organizado y reutilizable que realiza una tarea específica. Las funciones ayudan a modularizar el código, hacerlo más legible y evitar la repetición.\n",
        "\n",
        "**Definición y Uso:**\n",
        "\n",
        "Se definen utilizando la palabra clave `def`, seguida del nombre de la función, paréntesis `()` (que pueden contener parámetros) y dos puntos `:`. El bloque de código de la función está indentado."
      ]
    },
    {
      "cell_type": "code",
      "metadata": {
        "id": "2bb00654"
      },
      "source": [
        "def sumar(a, b):\n",
        "  \"\"\"Esta función retorna la suma de dos números.\"\"\"\n",
        "  return a + b\n",
        "\n",
        "resultado = sumar(5, 3)\n",
        "print(resultado) # Salida: 8"
      ],
      "execution_count": null,
      "outputs": []
    }
  ]
}