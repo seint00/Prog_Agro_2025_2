{
  "nbformat": 4,
  "nbformat_minor": 0,
  "metadata": {
    "colab": {
      "provenance": [],
      "authorship_tag": "ABX9TyMPB6HGPp7EylvQx9X5cKow",
      "include_colab_link": true
    },
    "kernelspec": {
      "name": "python3",
      "display_name": "Python 3"
    },
    "language_info": {
      "name": "python"
    }
  },
  "cells": [
    {
      "cell_type": "markdown",
      "metadata": {
        "id": "view-in-github",
        "colab_type": "text"
      },
      "source": [
        "<a href=\"https://colab.research.google.com/github/seint00/Prog_Agro_2025_2/blob/main/tomando_decisiones_semana_02_y_03.ipynb\" target=\"_parent\"><img src=\"https://colab.research.google.com/assets/colab-badge.svg\" alt=\"Open In Colab\"/></a>"
      ]
    },
    {
      "cell_type": "markdown",
      "source": [
        "# Situación de Interés en Ingeniería Agrícola\n",
        "\n",
        "1. Se está diseñando el software para un sistema de\n",
        "riego “inteligente”.\n",
        "2. El programa debe leer el nivel de humedad actual del suelo (un valor de 0 a 100) y decidir qué acción tomar:\n",
        "> no hacer nada\n",
        "> aplicar un riego ligero o\n",
        "> aplicar un riego profundo, según\n",
        "umbrales predefinidos."
      ],
      "metadata": {
        "id": "fJdJNSpexaW8"
      }
    },
    {
      "cell_type": "code",
      "execution_count": 4,
      "metadata": {
        "colab": {
          "base_uri": "https://localhost:8080/"
        },
        "id": "Xi-j7IFxv1wv",
        "outputId": "71c7a72b-8b3a-42d5-c447-6bba9337adf1"
      },
      "outputs": [
        {
          "output_type": "stream",
          "name": "stdout",
          "text": [
            "Ingrese el nivel de humedad actual (en porcentaje): 100\n",
            "El suelo está saturado. ES necesario aplicar drenaje.\n"
          ]
        }
      ],
      "source": [
        "# Caso de Ingeniería Agrícola: Lógica de Riego Inteligente (if/elif/else)\n",
        "# Definir los umbrales de humedad\n",
        "# (ej. por debajo de 30% es seco, entre 30% y 70% es óptimo, por encima de 70% es saturado).\n",
        "\n",
        "# Pedir al usuario el nivel de humedad actual.\n",
        "humedad_actual = float(input(\"Ingrese el nivel de humedad actual (en porcentaje): \"))\n",
        "if humedad_actual < 30:\n",
        "  print(\"El suelo está seco. ES necesario aplicar un riego.\")\n",
        "elif humedad_actual >= 30 and humedad_actual <= 70:\n",
        "    print(\"El suelo está óptimo. No es necesario aplicar un riego.\")\n",
        "else:\n",
        "      print(\"El suelo está saturado. ES necesario aplicar drenaje.\")"
      ]
    },
    {
      "cell_type": "markdown",
      "source": [
        "# Situación de Interés en **Ingeniería Agroindustrial**\n",
        "\n",
        "1. En una línea de empaque de frutas, un\n",
        "sensor mide el peso de cada fruta.\n",
        "2. Se necesita un programa que analice una lista de pesos de un lote y\n",
        "cuente:\n",
        "> cuántas frutas cumplen con el estándar de “Exportación” (ej. >250g),\n",
        "> cuántas son de “Mercado Nacional” (entre 150g y 250g) y\n",
        "> cuántas se consideran “Rechazo” (< 150g)."
      ],
      "metadata": {
        "id": "iQMqw_5N5Amn"
      }
    },
    {
      "cell_type": "code",
      "source": [
        "# Clasificación de Lote (for loop)\n",
        "# Definir una lista con los pesos de las frutas del lote (para simular los datos del sensor).\n",
        "pesos = [100, 95, 150, 250, 200, 300, 280, 300, 123, 111, 213, 400, 350, 456]\n",
        "\n",
        "# Inicializar tres contadores en cero: exportacion, nacional y rechazo.\n",
        "exportacion = 0\n",
        "nacional = 0\n",
        "rechazo = 0\n",
        "\n",
        "# recorrer la lista de pesos y clasificar cada fruta.\n",
        "for peso in pesos:\n",
        "  if peso > 250:\n",
        "    exportacion += 1\n",
        "  elif peso >= 150 and peso <= 250:\n",
        "    nacional += 1\n",
        "  else:\n",
        "    rechazo += 1\n",
        "\n",
        "# Después de que el bucle termine, imprimir los totales de cada categoría.\n",
        "print(\"Frutas exportadas:\", exportacion)\n",
        "print(\"Frutas en el mercado nacional:\", nacional)\n",
        "print(\"Frutas rechazadas:\", rechazo)\n",
        "\n"
      ],
      "metadata": {
        "colab": {
          "base_uri": "https://localhost:8080/"
        },
        "id": "DkkRll5y49-3",
        "outputId": "10e72e0a-4ce5-4294-d6b9-51be665e0eec"
      },
      "execution_count": 5,
      "outputs": [
        {
          "output_type": "stream",
          "name": "stdout",
          "text": [
            "Frutas exportadas: 6\n",
            "Frutas en el mercado nacional: 4\n",
            "Frutas rechazadas: 4\n"
          ]
        }
      ]
    }
  ]
}